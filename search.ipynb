{
 "cells": [
  {
   "cell_type": "code",
   "execution_count": 6,
   "metadata": {
    "tags": []
   },
   "outputs": [
    {
     "output_type": "execute_result",
     "data": {
      "text/plain": "0      https://www.amazon.com/gp/slredirect/picassoRe...\n1      https://www.amazon.com/gp/slredirect/picassoRe...\n2      https://www.amazon.com/Sony-MDRZX110-BLK-Stere...\n3      https://www.amazon.com/Cancelling-Headphones-B...\n4      https://www.amazon.com/Headphones-Microphone-S...\n                             ...                        \n137    https://www.amazon.com/Vic-Firth-Isolation-Hea...\n138    https://www.amazon.com/Philips-SHP9500S-Precis...\n139    https://www.amazon.com/Kidz-Gear-Wired-Headpho...\n140    https://www.amazon.com/gp/slredirect/picassoRe...\n141    https://www.amazon.com/gp/slredirect/picassoRe...\nName: url, Length: 142, dtype: object"
     },
     "metadata": {},
     "execution_count": 6
    }
   ],
   "source": [
    "import numpy as np\n",
    "import pandas as pd \n",
    "import matplotlib.pyplot as plt  \n",
    "\n",
    "df = pd.read_json('search_output.jsonl')\n",
    "df.head(2)\n",
    "\n",
    "df.url.to_save('')\n"
   ]
  },
  {
   "cell_type": "markdown",
   "metadata": {},
   "source": []
  }
 ],
 "metadata": {
  "language_info": {
   "codemirror_mode": {
    "name": "ipython",
    "version": 3
   },
   "file_extension": ".py",
   "mimetype": "text/x-python",
   "name": "python",
   "nbconvert_exporter": "python",
   "pygments_lexer": "ipython3",
   "version": "3.8.3-final"
  },
  "orig_nbformat": 2,
  "kernelspec": {
   "name": "python38332bitb722a6b6e0ac430ba299884178c2c126",
   "display_name": "Python 3.8.3 32-bit"
  }
 },
 "nbformat": 4,
 "nbformat_minor": 2
}